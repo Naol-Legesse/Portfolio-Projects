{
 "cells": [
  {
   "cell_type": "code",
   "execution_count": null,
   "id": "902254ed-1bdb-4130-a838-661bab57cb80",
   "metadata": {},
   "outputs": [],
   "source": []
  },
  {
   "cell_type": "markdown",
   "id": "2b3ffc83-56ab-4384-816d-ec6635e88685",
   "metadata": {},
   "source": [
    "# Top 100 UK YouTubers - Excel to SQL to Power BI Project"
   ]
  },
  {
   "cell_type": "markdown",
   "id": "1bef725f-420d-44ad-be36-e3a3391b19a1",
   "metadata": {},
   "source": [
    "[View on GitHub](https://github.com/Naol-Legesse/Portfolio-Projects/tree/main/Top%20100%20UK%20YouTubers)"
   ]
  },
  {
   "cell_type": "markdown",
   "id": "f1bf093e-193f-44bb-b0fd-21421a5f906f",
   "metadata": {},
   "source": [
    "## Table Of Contents:\n",
    "- [Objectives](#Objectives)\n",
    "- [Data source](#Datasource)\n",
    "- [Tools used](#Toolsused)\n",
    "- [Development process](#Development)\n",
    "- [Visualization](#Visualization)\n",
    "- [Dax measures used in Power BI](#Daxmeasures)\n",
    "- [Analysis](#Analysis)\n",
    "- [Discovery](#Discovery)\n",
    "- [Recommendation](#Recommendation)"
   ]
  },
  {
   "cell_type": "markdown",
   "id": "7f91ef5d-0227-4301-bee2-cc1042b7f35f",
   "metadata": {},
   "source": [
    "### Objectives <a class=\"anchor\" id=\"Objectives\"></a>\n",
    "\n",
    "The marketing team wants to find out who the top UK YouTubers are in 2024 to decide with whom it would be best to run marketing campaigns throughout the rest of the year.\n",
    "The idea is to create a dashboard that provides insights into the top UK YouTubers in 2024 that includes their:\n",
    "\n",
    "    subscriber count\n",
    "    total views\n",
    "    total videos, and\n",
    "    engagement metrics\n",
    "<br>"
   ]
  },
  {
   "cell_type": "markdown",
   "id": "6eec0a23-fcbb-4163-bf8a-315b3ac44625",
   "metadata": {},
   "source": [
    "### Data source <a class=\"anchor\" id=\"Datasource\"></a>\n",
    "\n",
    "The analyst needs data on the top UK YouTubers in 2024, and this could be sourced from Kaggle (an Excel extract), [see here to find it](https://www.kaggle.com/datasets/bhavyadhingra00020/top-100-social-media-influencers-2024-countrywise?resource=download)"
   ]
  },
  {
   "cell_type": "code",
   "execution_count": 75,
   "id": "56559e75-8e9d-475d-af86-bb494860af10",
   "metadata": {},
   "outputs": [
    {
     "data": {
      "text/html": [
       "<style>\n",
       "  table {margin-left: 0 !important;}\n",
       "</style>\n"
      ],
      "text/plain": [
       "<IPython.core.display.HTML object>"
      ]
     },
     "metadata": {},
     "output_type": "display_data"
    }
   ],
   "source": [
    "%%html\n",
    "<style>\n",
    "  table {margin-left: 0 !important;}\n",
    "</style>"
   ]
  },
  {
   "cell_type": "markdown",
   "id": "620b28db-ebe6-458f-aade-5207f596d920",
   "metadata": {},
   "source": [
    "### Tools used <a class=\"anchor\" id=\"Toolsused\"></a>\n",
    "\n",
    "| Tool | Purpose |\n",
    "| --- | ---|\n",
    "| Excel | Exploring the data |\n",
    "| SQL Server | Cleaning, testing, and analyzing the data |\n",
    "| Power BI | Visualizing the data via interactive dashboards |\n",
    "| GitHub | Hosting the project documentation and version control |\n",
    "<br>"
   ]
  },
  {
   "cell_type": "markdown",
   "id": "0054b1da-7f38-424a-94be-09928354a2a2",
   "metadata": {},
   "source": [
    "### Development process <a class=\"anchor\" id=\"Development\"></a>\n",
    "\n",
    "The general approach in creating this solution from start to finish is as follows:\n",
    "\n",
    "    1. Get the data from Kaggle\n",
    "    2. Explore the data in Excel\n",
    "    3. Load the data into SQL Server\n",
    "    4. Clean the data with SQL\n",
    "    5. Test the data with SQL\n",
    "    6. Visualize the data in Power BI\n",
    "    7. Generate the findings based on the insights\n",
    "\n",
    "Initial observations of the dataset with Excel:\n",
    "\n",
    "    1. There are at least 4 columns that contain the data we need for this analysis.\n",
    "    2. The first column contains the channel name with corresponding channel IDS, which are separated by a @ symbol - we need to extract\n",
    "       the channel names from this.\n",
    "    3. Some of the cells and header names are in a different language - we need to confirm if these columns are needed, and if so, we need\n",
    "       to address them.\n",
    "    4. We have more data than we need, so some of these columns would need to be removed\n",
    "\n",
    "Dataset exploration with SQL Server:\n",
    "\n",
    "    1. Remove unnecessary columns by only selecting the ones you need\n",
    "``` sql\n",
    "Select NOMBRE, total_subscribers, total_views, total_videos\n",
    "from Top_100_UK_youtube_channels\n",
    "```\n",
    "    2. Extract Youtube channel names from the first column, which contains the channel name with channel IDS, separated by the \"@\" symbol\n",
    "```sql\n",
    "-- use charindex() to find the location of @\n",
    "select CHARINDEX('@',NOMBRE,1) from Top_100_UK_youtube_channels\n",
    "\n",
    "-- use substring() to extract the channel name\n",
    "select SUBSTRING(NOMBRE,1,CHARINDEX('@',NOMBRE,1)-2) from Top_100_UK_youtube_channels\n",
    "\n",
    "-- use CAST() to change to string\n",
    "Select CAST(SUBSTRING(NOMBRE,1,CHARINDEX('@',NOMBRE,1)-2) as varchar(100)) as Channel_Name,\n",
    "total_subscribers,\n",
    "total_videos,\n",
    "total_views\n",
    "from Top_100_UK_youtube_channels\n",
    "\n",
    "-- Create a view for next step \n",
    "CREATE VIEW view_1_Top_100_UK_youtube_channels AS\n",
    "\tSelect CAST(SUBSTRING(NOMBRE,1,CHARINDEX('@',NOMBRE,1)-2) as varchar(100)) as Channel_Name,\n",
    "\t\ttotal_subscribers,\n",
    "\t\ttotal_videos,\n",
    "\t\ttotal_views\n",
    "\tfrom Top_100_UK_youtube_channels\n",
    "```\n",
    "    3. Test the dataset\n",
    "```sql\n",
    "\t/* guidelines to test out the dataset\n",
    "\n",
    "\tThere should be 100 entries (row count)\n",
    "\tThere should be 4 fields (column count)\n",
    "\tChannel name must be string ; while total_subscribers, total_videos, total_views must be integers (data type check)\n",
    "\tThere must be no duplicate entries\n",
    "\n",
    "\t*/\n",
    "\n",
    "\t-- row count test\n",
    "\tSelect COUNT(*) AS row_count \n",
    "\tFROM view_1_Top_100_UK_youtube_channels\n",
    "\n",
    "\t-- column count test\n",
    "\tSELECT * \n",
    "\tFROM INFORMATION_SCHEMA.COLUMNS\n",
    "\tWHERE TABLE_NAME = 'view_1_Top_100_UK_youtube_channels'\n",
    "\n",
    "\tOR\n",
    "\n",
    "\tSELECT COUNT(*) AS column_count \n",
    "\tFROM INFORMATION_SCHEMA.COLUMNS\n",
    "\tWHERE TABLE_NAME = 'view_1_Top_100_UK_youtube_channels'\n",
    "\n",
    "\t-- data type test\n",
    "\tSELECT COLUMN_NAME, DATA_TYPE \n",
    "\tFROM INFORMATION_SCHEMA.COLUMNS\n",
    "\tWHERE TABLE_NAME = 'view_1_Top_100_UK_youtube_channels'\n",
    "\n",
    "\t-- duplicate test\n",
    "\tSELECT Channel_Name, COUNT(Channel_Name) \n",
    "\tFROM view_1_Top_100_UK_youtube_channels\n",
    "\tGROUP BY Channel_Name\n",
    "\tHAVING COUNT(Channel_Name) >1\n",
    "```\n",
    "    4. Load dataset to Power BI\n",
    "<br>"
   ]
  },
  {
   "cell_type": "markdown",
   "id": "136964a6-5b57-444d-8231-abff24fff07f",
   "metadata": {},
   "source": [
    "### Visualization <a class=\"anchor\" id=\"Visualization\"></a>\n",
    "\n",
    "![title](Top100UKyoutubersdashboardsnippet.gif)\n",
    "<br>"
   ]
  },
  {
   "cell_type": "markdown",
   "id": "5b7c2e54-e73c-4034-8cb2-96af915c4bf0",
   "metadata": {},
   "source": [
    "### Dax measures used in Power BI <a class=\"anchor\" id=\"Daxmeasures\"></a>\n",
    "\n",
    "1. Total Subscribers (M) =<br>\n",
    "DIVIDE(SUM(view_1_Top_100_youtube_channels[total_subscribers]),1000000)\n",
    "\n",
    "3. Total Views (B) =<br>\n",
    "DIVIDE(SUM(view_1_Top_100_youtube_channels[total_views]),1000000000)\n",
    "\n",
    "6. Total Videos =<br>\n",
    "SUM(view_1_Top_100_youtube_channels[total_videos])\n",
    "\n",
    "8. Average Views Per Video (M) =<br>\n",
    "DIVIDE(SUM(view_1_Top_100_youtube_channels[total_views]),SUM(view_1_Top_100_youtube_channels[total_videos]))\n",
    "\n",
    "10. Subscriber Engagement Rate =<br>\n",
    "DIVIDE(SUM(view_1_Top_100_youtube_channels[total_subscribers]),SUM(view_1_Top_100_youtube_channels[total_videos]))\n",
    "\n",
    "12. Views per subscriber =<br>\n",
    "DIVIDE(SUM(view_1_Top_100_youtube_channels[total_views]),SUM(view_1_Top_100_youtube_channels[total_subscribers]))\n",
    "<br>"
   ]
  },
  {
   "cell_type": "markdown",
   "id": "75480167-4349-49ce-b324-edd02846c306",
   "metadata": {},
   "source": [
    "### Analysis <a class=\"anchor\" id=\"Analysis\"></a>\n",
    "\n",
    "1. Who are the top 3 YouTubers with the most subscribers?\n",
    "\n",
    "| Rank | Channel Name |\tSubscribers (M) |\n",
    "| --- | ------------- | --------------- |\n",
    "| 1 | NoCopyrightSounds | 33.60 |\n",
    "| 2 | DanTDM | 28.60 |\n",
    "| 3 |\tDan Rhodes |\t26.50 |\n",
    "\n",
    "<br>\n",
    "\n",
    "2. Which 3 channels have uploaded the most videos?\n",
    "\n",
    "| Rank |\tChannel Name |\tVideos Uploaded |\n",
    "| --- | ---------------- | ---------------- |\n",
    "| 1 | 24 News HD |\t165,103 |\n",
    "| 2 |\tSky News |\t46,009 |\n",
    "|3 |\tBBC News |\t40,179 |\n",
    "\n",
    "<br>\n",
    "\n",
    "3. Which 3 channels have the most views?\n",
    "\n",
    "| Rank |\tChannel Name |\tTotal Views (B) |\n",
    "| --- | ---------------- | ---------------- |\n",
    "| 1 |\tDanTDM |\t19.78 |\n",
    "| 2 |\tDan Rhodes |\t18.56 |\n",
    "| 3 |\tMister Max |\t15.97 |\n",
    "\n",
    "<br>\n",
    "\n",
    "4. Which 3 channels have the highest average views per video?\n",
    "\n",
    "| Rank | Channel Name |\tAverge Views per Video (M) |\n",
    "| ---- | ------------ | -------------------------- |\n",
    "| 1 | Mark Ronson |\t322.7 |\n",
    "| 2 | Jessie J |\t59.7 |\n",
    "| 3 | Dua Lipa |\t57.6 |\n",
    "\n",
    "<br>\n",
    "\n",
    "5. What is the average view per video of the top 3 YouTubers with most subscriber count?\n",
    "\n",
    "| Rank | Channel Name |\tAverge Views per Video (M) |\n",
    "| ---- | ------------ | -------------------------- |\n",
    "| 1 | NoCopyrightSounds | 6.92 |\n",
    "| 2 | DanTDM | 5.34 |\n",
    "| 3 |\tDan Rhodes | 11.15 |\n",
    "\n",
    "<br>"
   ]
  },
  {
   "cell_type": "markdown",
   "id": "b23a42a8-4292-447a-a10e-cc6528ff7452",
   "metadata": {},
   "source": [
    "### Discovery <a class=\"anchor\" id=\"Discovery\"></a>\n",
    "\n",
    "●  \"NoCopyrightSOunds\", \"DanTDM\" and \"Dan Rhodes\" are the YouTubers with the most subscribers in the UK. <br>\n",
    "●  \"Mark Ronson\", \"Jessie J\" and \"Dua Lipa\" are the YouTubers with the highest average view per video. <br>\n",
    "●  \"DanTDM\", \"Dan RHodes\" and \"Mister Max\" are the YouTubers with the most views. <br>\n",
    "●  \"24 News HD\", \"Sky News\" and \"BBC News\" are the channels with the most videos uploaded.\n",
    "\n",
    "<br>"
   ]
  },
  {
   "cell_type": "markdown",
   "id": "11572883-6fd9-4499-901a-15a47efa2272",
   "metadata": {},
   "source": [
    "### Recommendation <a class=\"anchor\" id=\"Recommendation\"></a>\n",
    "\n",
    "\n",
    "    1. Dan Rhodes is the best YouTube channel to collaborate with to maximize visbility because this channel has the highest average view per video among the top 3 YouTubers with the most subscribers count in the UK.\n",
    "    \n",
    "    2. The other 2 channels to form collaborations with are NoCopyrightSounds and DanTDM based on this analysis, because they attract the most engagement on their channels consistently from their large amount of subscribers.\n",
    "    \n",
    "    3. Mark Ronson, Jessie J and Dua Lipa are the top 3 YouTubers with the highest average view per video, although their subscriber count is far less than the channels mentioned earlier, and collaborating with them has good potential return on investments.\n",
    "    \n",
    "    4. Although 24 News HD, Sky News and BBC News are regular publishers on YouTube, it is important to carefully analyze whether collaborating with them is worth the effort, as the potential return on investments is significantly lower compared to the other channels.     "
   ]
  }
 ],
 "metadata": {
  "kernelspec": {
   "display_name": "Python 3 (ipykernel)",
   "language": "python",
   "name": "python3"
  },
  "language_info": {
   "codemirror_mode": {
    "name": "ipython",
    "version": 3
   },
   "file_extension": ".py",
   "mimetype": "text/x-python",
   "name": "python",
   "nbconvert_exporter": "python",
   "pygments_lexer": "ipython3",
   "version": "3.12.4"
  }
 },
 "nbformat": 4,
 "nbformat_minor": 5
}
